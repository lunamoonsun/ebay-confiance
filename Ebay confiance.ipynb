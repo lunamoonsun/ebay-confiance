{
 "cells": [
  {
   "cell_type": "markdown",
   "id": "4c45ed80",
   "metadata": {},
   "source": [
    "# 1. Importando base de dados e bibliotecas necessárias"
   ]
  },
  {
   "cell_type": "code",
   "execution_count": 97,
   "id": "0b3aaf0d",
   "metadata": {},
   "outputs": [],
   "source": [
    "import pandas as pd\n",
    "import random \n",
    "import numpy as np\n",
    "import seaborn as sns\n",
    "\n",
    "import warnings \n",
    "warnings.filterwarnings('ignore')\n",
    "\n",
    "import matplotlib.pyplot as plt\n",
    "%matplotlib inline"
   ]
  },
  {
   "cell_type": "code",
   "execution_count": 98,
   "id": "aa850ef2",
   "metadata": {},
   "outputs": [],
   "source": [
    "data = pd.read_csv(\"csv_result-ebay_confianca_completo.csv\")"
   ]
  },
  {
   "cell_type": "markdown",
   "id": "83085cef",
   "metadata": {},
   "source": [
    "\"Feedbacks\",\n",
    "   \"Avaliações\",\n",
    "    \"Lista Negra\",\n",
    "    \"Extroversão M\",\n",
    "    \"Extroversão C\",\n",
    "    \"Extroversão S\",\n",
    "    \"Neuroticismo M\",\n",
    "    \"Neuroticismo C\",\n",
    "    \"Neuroticismo S\",\n",
    "    \"Conscienciosidade M\",\n",
    "    \"Conscienciosidade C\",\n",
    "    \"Conscienciosidade S\",\n",
    "    \"Amabilidade M\",\n",
    "    \"Amabilidade C\",\n",
    "    \"Amabilidade S\",\n",
    "    \"Abertura M\",\n",
    "    \"Abertura C\",\n",
    "    \"Abertura S\",\n",
    "    \"Amabilidade Indico\",\n",
    "    \"Conscienciosidade Indico\",\n",
    "    \"Extroversão Indico\",\n",
    "    \"Abertura Indico\",\n",
    "    \"Abertura Watson\",\n",
    "    \"Conscienciosidade Watson\",\n",
    "    \"Extroversão Watson\",\n",
    "    \"Amabilidade Watson\",\n",
    "    \"Neuroticismo Watson\",\n",
    "    \"Aventura\",\n",
    "    \"Artístico\",\n",
    "    \"Emocionalidade\",\n",
    "    \"Imaginação\",\n",
    "    \"Intelecto\",\n",
    "    \"Liberalismo\",\n",
    "    \"Realização\",\n",
    "    \"Cautela\",\n",
    "    \"Dever\",\n",
    "    \"Ordem\",\n",
    "    \"Disciplina\",\n",
    "    \"Eficácia\",\n",
    "    \"Atividade\",\n",
    "    \"Assertividade\",\n",
    "    \"Alegria\",\n",
    "    \"Excitação\",\n",
    "    \"Amizade\",\n",
    "    \"Sociabilidade\",\n",
    "    \"Altruísmo\",\n",
    "    \"Cooperação\",\n",
    "    \"Modéstia\",\n",
    "    \"Moralidade\",\n",
    "    \"Simpatia\",\n",
    "    \"Confiança\",\n",
    "    \"Raiva\",\n",
    "    \"Ansiedade\",\n",
    "    \"Depressão\",\n",
    "    \"Imoderação\",\n",
    "    \"Autoconsciência\",\n",
    "    \"Vulnerabilidade\",\n",
    "    \"Necessidade de Desafio\",\n",
    "    \"Necessidade de Proximidade\",\n",
    "    \"Necessidade de Curiosidade\",\n",
    "    \"Necessidade de Excitação\",\n",
    "    \"Necessidade de Harmonia\",\n",
    "    \"Necessidade de Ideal\",\n",
    "    \"Necessidade de Liberdade\",\n",
    "    \"Necessidade de Amor\",\n",
    "    \"Necessidade de Praticidade\",\n",
    "    \"Necessidade de Autoexpressão\"\n",
    "    \"Necessidade de Estabilidade\",\n",
    "    \"Necessidade de Estrutura\",\n",
    "    \"Valor Conservação\",\n",
    "    \"Valor Abertura\",\n",
    "    \"Valor Hedonismo\",\n",
    "    \"Valor Autoaperfeiçoamento\",\n",
    "    \"Valor Autotranscendência\",\n",
    "    \"Reputação\""
   ]
  },
  {
   "cell_type": "markdown",
   "id": "793340a7",
   "metadata": {},
   "source": [
    "São as variáveis estudads dentro desse dataset, vamos aplicar um modelo de aprendizado de máquina denominado Random Forest para avaliar a reputação, se será boa ou ruim, em outras palavras o modelo aplicado será de classificação."
   ]
  },
  {
   "cell_type": "code",
   "execution_count": 99,
   "id": "2a067974",
   "metadata": {},
   "outputs": [
    {
     "data": {
      "text/plain": [
       "feedbacks                  0\n",
       "reviews                    0\n",
       "blacklist                  0\n",
       "mextraversion              0\n",
       "cextraversion              0\n",
       "                          ..\n",
       "value_openess              0\n",
       "value_hedonism             0\n",
       "value_selfenhancement      0\n",
       "value_selftranscendence    0\n",
       "reputation                 0\n",
       "Length: 75, dtype: int64"
      ]
     },
     "execution_count": 99,
     "metadata": {},
     "output_type": "execute_result"
    }
   ],
   "source": [
    "data.isnull().sum() # Não tem dados faltantes"
   ]
  },
  {
   "cell_type": "code",
   "execution_count": 100,
   "id": "f98ca1aa",
   "metadata": {},
   "outputs": [
    {
     "name": "stdout",
     "output_type": "stream",
     "text": [
      "<class 'pandas.core.frame.DataFrame'>\n",
      "Int64Index: 5806 entries, 2 to 5807\n",
      "Data columns (total 75 columns):\n",
      " #   Column                   Non-Null Count  Dtype  \n",
      "---  ------                   --------------  -----  \n",
      " 0   feedbacks                5806 non-null   int64  \n",
      " 1   reviews                  5806 non-null   int64  \n",
      " 2   blacklist                5806 non-null   object \n",
      " 3   mextraversion            5806 non-null   float64\n",
      " 4   cextraversion            5806 non-null   float64\n",
      " 5   sextraversion            5806 non-null   int64  \n",
      " 6   mneuroticism             5806 non-null   float64\n",
      " 7   cneuroticism             5806 non-null   float64\n",
      " 8   sneuroticism             5806 non-null   int64  \n",
      " 9   mconscientiousness       5806 non-null   float64\n",
      " 10  cconscientiousness       5806 non-null   float64\n",
      " 11  sconscientiousness       5806 non-null   int64  \n",
      " 12  magreeableness           5806 non-null   float64\n",
      " 13  cagreeableness           5806 non-null   float64\n",
      " 14  sagreeableness           5806 non-null   int64  \n",
      " 15  mopenness                5806 non-null   float64\n",
      " 16  copenness                5806 non-null   float64\n",
      " 17  sopenness                5806 non-null   int64  \n",
      " 18  agreeablenessIndico      5806 non-null   float64\n",
      " 19  conscientiousnessIndico  5806 non-null   float64\n",
      " 20  extraversionIndico       5806 non-null   float64\n",
      " 21  opennessIndico           5806 non-null   float64\n",
      " 22  openessWatson            5806 non-null   float64\n",
      " 23  conscientiousnessWatson  5806 non-null   float64\n",
      " 24  extraversionWatson       5806 non-null   float64\n",
      " 25  agreeablenessWatson      5806 non-null   float64\n",
      " 26  neuroticismWatson        5806 non-null   float64\n",
      " 27  o_adventure              5806 non-null   float64\n",
      " 28  o_artistic               5806 non-null   float64\n",
      " 29  o_emotionality           5806 non-null   float64\n",
      " 30  o_imagination            5806 non-null   float64\n",
      " 31  o_intelect               5806 non-null   float64\n",
      " 32  o_liberalism             5806 non-null   float64\n",
      " 33  c_achievement            5806 non-null   float64\n",
      " 34  c_cautiouness            5806 non-null   float64\n",
      " 35  c_dutifulness            5806 non-null   float64\n",
      " 36  c_orderliness            5806 non-null   float64\n",
      " 37  c_discipline             5806 non-null   float64\n",
      " 38  c_efficacy               5806 non-null   float64\n",
      " 39  e_activity               5806 non-null   float64\n",
      " 40  e_assertiveness          5806 non-null   float64\n",
      " 41  e_cheerfulness           5806 non-null   float64\n",
      " 42  e_excitement             5806 non-null   float64\n",
      " 43  e_friend                 5806 non-null   float64\n",
      " 44  e_gregariouness          5806 non-null   float64\n",
      " 45  a_altruism               5806 non-null   float64\n",
      " 46  a_cooperation            5806 non-null   float64\n",
      " 47  a_modesty                5806 non-null   float64\n",
      " 48  a_morality               5806 non-null   float64\n",
      " 49  a_simpathy               5806 non-null   float64\n",
      " 50  a_trust                  5806 non-null   float64\n",
      " 51  n_anger                  5806 non-null   float64\n",
      " 52  n_anxiety                5806 non-null   float64\n",
      " 53  n_depression             5806 non-null   float64\n",
      " 54  n_immoderation           5806 non-null   float64\n",
      " 55  n_selfconsciouness       5806 non-null   float64\n",
      " 56  n_vulnerability          5806 non-null   float64\n",
      " 57  need_chalenge            5806 non-null   float64\n",
      " 58  need_closeness           5806 non-null   float64\n",
      " 59  need_curiosity           5806 non-null   float64\n",
      " 60  need_excitement          5806 non-null   float64\n",
      " 61  need_harmony             5806 non-null   float64\n",
      " 62  need_ideal               5806 non-null   float64\n",
      " 63  need_liberty             5806 non-null   float64\n",
      " 64  need_love                5806 non-null   float64\n",
      " 65  need_practicaly          5806 non-null   float64\n",
      " 66  need_selfexpression      5806 non-null   float64\n",
      " 67  need_stability           5806 non-null   float64\n",
      " 68  need_structure           5806 non-null   float64\n",
      " 69  value_conservation       5806 non-null   float64\n",
      " 70  value_openess            5806 non-null   float64\n",
      " 71  value_hedonism           5806 non-null   float64\n",
      " 72  value_selfenhancement    5806 non-null   float64\n",
      " 73  value_selftranscendence  5806 non-null   float64\n",
      " 74  reputation               5806 non-null   object \n",
      "dtypes: float64(66), int64(7), object(2)\n",
      "memory usage: 3.4+ MB\n"
     ]
    }
   ],
   "source": [
    "data.info() # Informações das colunas e os tipos de dados"
   ]
  },
  {
   "cell_type": "code",
   "execution_count": 101,
   "id": "84b0b902",
   "metadata": {},
   "outputs": [],
   "source": [
    "data['blacklist'] = data['blacklist'] == 'S'\n",
    "\n",
    "# Definindo aqui o seguinte: Como os modelos de aprendizado de máquina não recebem valores de String como dados, é necessário\n",
    "# transformar os dados de String em booleans como True or False, nesse caso quem for == 'S' será True, caso contrário é False"
   ]
  },
  {
   "cell_type": "code",
   "execution_count": 102,
   "id": "b4ec82f5",
   "metadata": {},
   "outputs": [
    {
     "data": {
      "text/plain": [
       "2        Bom\n",
       "3        Bom\n",
       "4        Bom\n",
       "5        Bom\n",
       "6        Bom\n",
       "        ... \n",
       "5803     Bom\n",
       "5804    Ruim\n",
       "5805     Bom\n",
       "5806    Ruim\n",
       "5807    Ruim\n",
       "Name: reputation, Length: 5806, dtype: object"
      ]
     },
     "execution_count": 102,
     "metadata": {},
     "output_type": "execute_result"
    }
   ],
   "source": [
    "data['reputation'] # Coluna a ser avaliada, são ao total 5806 registros"
   ]
  },
  {
   "cell_type": "code",
   "execution_count": 103,
   "id": "71fe1456",
   "metadata": {},
   "outputs": [
    {
     "data": {
      "text/plain": [
       "<AxesSubplot:xlabel='reputation', ylabel='count'>"
      ]
     },
     "execution_count": 103,
     "metadata": {},
     "output_type": "execute_result"
    },
    {
     "data": {
      "image/png": "[encoded data removed]",
      "text/plain": [
       "<Figure size 432x288 with 1 Axes>"
      ]
     },
     "metadata": {
      "needs_background": "light"
     },
     "output_type": "display_data"
    }
   ],
   "source": [
    "sns.countplot(data['reputation'])"
   ]
  },
  {
   "cell_type": "markdown",
   "id": "986936cd",
   "metadata": {},
   "source": [
    "Vamos observar aqui se os dados estão desbalanceados. É notável que a estrutura demonstra um conjunto de dados mais disponíveis para a qualidade 'bom' em comparação a 'ruim'. Dessa forma, o modelo deve ter a separação dos dados de forma estratificada e posteriormente caso necessário utilizar alguns métodos como oversampling ou undersampling."
   ]
  },
  {
   "cell_type": "code",
   "execution_count": 104,
   "id": "31a8d64f",
   "metadata": {},
   "outputs": [],
   "source": [
    "data['reputation'] = data['reputation'] == 'Bom'"
   ]
  },
  {
   "cell_type": "markdown",
   "id": "af4de439",
   "metadata": {},
   "source": [
    "# 2. Importando o modelo de Random Forest para aplicação da Ténica de Machine Learning"
   ]
  },
  {
   "cell_type": "code",
   "execution_count": 105,
   "id": "237ea0a8",
   "metadata": {},
   "outputs": [],
   "source": [
    "from sklearn.ensemble import RandomForestClassifier\n",
    "from sklearn.metrics import confusion_matrix, accuracy_score \n",
    "from sklearn.model_selection import train_test_split"
   ]
  },
  {
   "cell_type": "code",
   "execution_count": 106,
   "id": "f3f09431",
   "metadata": {},
   "outputs": [],
   "source": [
    "X = data.drop('reputation', axis=1)\n",
    "y = data['reputation']"
   ]
  },
  {
   "cell_type": "code",
   "execution_count": 107,
   "id": "3bb313ad",
   "metadata": {},
   "outputs": [],
   "source": [
    "X_train, X_test, y_train, y_test = train_test_split(X, y, test_size=0.3, stratify = y) \n",
    "# Stratify = y significa que a separação das amostras vão ser realizada de forma aleatória, porém, variando de acordo com \n",
    "# a proporcionalidade dos dados disponíveis para cada categoria \"Bom\" ou \"Ruim\""
   ]
  },
  {
   "cell_type": "code",
   "execution_count": 108,
   "id": "47393496",
   "metadata": {},
   "outputs": [
    {
     "data": {
      "text/plain": [
       "((4064, 74), (4064,))"
      ]
     },
     "execution_count": 108,
     "metadata": {},
     "output_type": "execute_result"
    }
   ],
   "source": [
    "X_train.shape, y_train.shape"
   ]
  },
  {
   "cell_type": "code",
   "execution_count": 109,
   "id": "6dd67dfc",
   "metadata": {},
   "outputs": [
    {
     "data": {
      "text/plain": [
       "((1742, 74), (1742,))"
      ]
     },
     "execution_count": 109,
     "metadata": {},
     "output_type": "execute_result"
    }
   ],
   "source": [
    "X_test.shape, y_test.shape"
   ]
  },
  {
   "cell_type": "code",
   "execution_count": 110,
   "id": "201c4e58",
   "metadata": {},
   "outputs": [],
   "source": [
    "clf = RandomForestClassifier() # Importando o modelo de Machine Learning"
   ]
  },
  {
   "cell_type": "code",
   "execution_count": 111,
   "id": "f829b972",
   "metadata": {},
   "outputs": [
    {
     "data": {
      "text/html": [
       "<style>#sk-container-id-3 {color: black;}#sk-container-id-3 pre{padding: 0;}#sk-container-id-3 div.sk-toggleable {background-color: white;}#sk-container-id-3 label.sk-toggleable__label {cursor: pointer;display: block;width: 100%;margin-bottom: 0;padding: 0.3em;box-sizing: border-box;text-align: center;}#sk-container-id-3 label.sk-toggleable__label-arrow:before {content: \"▸\";float: left;margin-right: 0.25em;color: #696969;}#sk-container-id-3 label.sk-toggleable__label-arrow:hover:before {color: black;}#sk-container-id-3 div.sk-estimator:hover label.sk-toggleable__label-arrow:before {color: black;}#sk-container-id-3 div.sk-toggleable__content {max-height: 0;max-width: 0;overflow: hidden;text-align: left;background-color: #f0f8ff;}#sk-container-id-3 div.sk-toggleable__content pre {margin: 0.2em;color: black;border-radius: 0.25em;background-color: #f0f8ff;}#sk-container-id-3 input.sk-toggleable__control:checked~div.sk-toggleable__content {max-height: 200px;max-width: 100%;overflow: auto;}#sk-container-id-3 input.sk-toggleable__control:checked~label.sk-toggleable__label-arrow:before {content: \"▾\";}#sk-container-id-3 div.sk-estimator input.sk-toggleable__control:checked~label.sk-toggleable__label {background-color: #d4ebff;}#sk-container-id-3 div.sk-label input.sk-toggleable__control:checked~label.sk-toggleable__label {background-color: #d4ebff;}#sk-container-id-3 input.sk-hidden--visually {border: 0;clip: rect(1px 1px 1px 1px);clip: rect(1px, 1px, 1px, 1px);height: 1px;margin: -1px;overflow: hidden;padding: 0;position: absolute;width: 1px;}#sk-container-id-3 div.sk-estimator {font-family: monospace;background-color: #f0f8ff;border: 1px dotted black;border-radius: 0.25em;box-sizing: border-box;margin-bottom: 0.5em;}#sk-container-id-3 div.sk-estimator:hover {background-color: #d4ebff;}#sk-container-id-3 div.sk-parallel-item::after {content: \"\";width: 100%;border-bottom: 1px solid gray;flex-grow: 1;}#sk-container-id-3 div.sk-label:hover label.sk-toggleable__label {background-color: #d4ebff;}#sk-container-id-3 div.sk-serial::before {content: \"\";position: absolute;border-left: 1px solid gray;box-sizing: border-box;top: 0;bottom: 0;left: 50%;z-index: 0;}#sk-container-id-3 div.sk-serial {display: flex;flex-direction: column;align-items: center;background-color: white;padding-right: 0.2em;padding-left: 0.2em;position: relative;}#sk-container-id-3 div.sk-item {position: relative;z-index: 1;}#sk-container-id-3 div.sk-parallel {display: flex;align-items: stretch;justify-content: center;background-color: white;position: relative;}#sk-container-id-3 div.sk-item::before, #sk-container-id-3 div.sk-parallel-item::before {content: \"\";position: absolute;border-left: 1px solid gray;box-sizing: border-box;top: 0;bottom: 0;left: 50%;z-index: -1;}#sk-container-id-3 div.sk-parallel-item {display: flex;flex-direction: column;z-index: 1;position: relative;background-color: white;}#sk-container-id-3 div.sk-parallel-item:first-child::after {align-self: flex-end;width: 50%;}#sk-container-id-3 div.sk-parallel-item:last-child::after {align-self: flex-start;width: 50%;}#sk-container-id-3 div.sk-parallel-item:only-child::after {width: 0;}#sk-container-id-3 div.sk-dashed-wrapped {border: 1px dashed gray;margin: 0 0.4em 0.5em 0.4em;box-sizing: border-box;padding-bottom: 0.4em;background-color: white;}#sk-container-id-3 div.sk-label label {font-family: monospace;font-weight: bold;display: inline-block;line-height: 1.2em;}#sk-container-id-3 div.sk-label-container {text-align: center;}#sk-container-id-3 div.sk-container {/* jupyter's `normalize.less` sets `[hidden] { display: none; }` but bootstrap.min.css set `[hidden] { display: none !important; }` so we also need the `!important` here to be able to override the default hidden behavior on the sphinx rendered scikit-learn.org. See: https://github.com/scikit-learn/scikit-learn/issues/21755 */display: inline-block !important;position: relative;}#sk-container-id-3 div.sk-text-repr-fallback {display: none;}</style><div id=\"sk-container-id-3\" class=\"sk-top-container\"><div class=\"sk-text-repr-fallback\"><pre>RandomForestClassifier()</pre><b>In a Jupyter environment, please rerun this cell to show the HTML representation or trust the notebook. <br />On GitHub, the HTML representation is unable to render, please try loading this page with nbviewer.org.</b></div><div class=\"sk-container\" hidden><div class=\"sk-item\"><div class=\"sk-estimator sk-toggleable\"><input class=\"sk-toggleable__control sk-hidden--visually\" id=\"sk-estimator-id-3\" type=\"checkbox\" checked><label for=\"sk-estimator-id-3\" class=\"sk-toggleable__label sk-toggleable__label-arrow\">RandomForestClassifier</label><div class=\"sk-toggleable__content\"><pre>RandomForestClassifier()</pre></div></div></div></div></div>"
      ],
      "text/plain": [
       "RandomForestClassifier()"
      ]
     },
     "execution_count": 111,
     "metadata": {},
     "output_type": "execute_result"
    }
   ],
   "source": [
    "clf.fit(X_train, y_train)"
   ]
  },
  {
   "cell_type": "code",
   "execution_count": 112,
   "id": "0068485f",
   "metadata": {},
   "outputs": [],
   "source": [
    "results = clf.predict(X_test) # Treinando o modelo"
   ]
  },
  {
   "cell_type": "code",
   "execution_count": 113,
   "id": "5572243a",
   "metadata": {},
   "outputs": [
    {
     "data": {
      "text/plain": [
       "0.7497129735935706"
      ]
     },
     "execution_count": 113,
     "metadata": {},
     "output_type": "execute_result"
    }
   ],
   "source": [
    "# Avaliando o treinamento do modelo antes de aplicar a técnica de under e over (sampling)\n",
    "accuracy_score(results, y_test)"
   ]
  },
  {
   "cell_type": "markdown",
   "id": "99264b4c",
   "metadata": {},
   "source": [
    "Observa-se que o modelo obteve uma acurácia de aproximadamente 74.62%, vamos observar como deu-se a parte da matriz de confusão."
   ]
  },
  {
   "cell_type": "code",
   "execution_count": 114,
   "id": "e9dee0f7",
   "metadata": {},
   "outputs": [],
   "source": [
    "cm = confusion_matrix(results, y_test)"
   ]
  },
  {
   "cell_type": "code",
   "execution_count": 115,
   "id": "60b611d2",
   "metadata": {},
   "outputs": [
    {
     "data": {
      "text/plain": [
       "array([[  23,    7],\n",
       "       [ 429, 1283]], dtype=int64)"
      ]
     },
     "execution_count": 115,
     "metadata": {},
     "output_type": "execute_result"
    }
   ],
   "source": [
    "cm"
   ]
  },
  {
   "cell_type": "code",
   "execution_count": 116,
   "id": "cc1b81e8",
   "metadata": {},
   "outputs": [
    {
     "data": {
      "text/plain": [
       "Text(0.5, 1.0, 'Avaliando o modelo de RandomForest')"
      ]
     },
     "execution_count": 116,
     "metadata": {},
     "output_type": "execute_result"
    },
    {
     "data": {
      "image/png": "[encoded data removed]",
      "text/plain": [
       "<Figure size 432x288 with 2 Axes>"
      ]
     },
     "metadata": {
      "needs_background": "light"
     },
     "output_type": "display_data"
    }
   ],
   "source": [
    "sns.heatmap(cm, annot=True)\n",
    "\n",
    "plt.title(\"Avaliando o modelo de RandomForest\")"
   ]
  },
  {
   "cell_type": "markdown",
   "id": "87a64c69",
   "metadata": {},
   "source": [
    "- Vedadeiros positivos: 1281 | Falso Negativo: 433\n",
    "-     Falso positivo: 9     | Verdadeiro Negativo: 19"
   ]
  },
  {
   "cell_type": "code",
   "execution_count": 117,
   "id": "e6df87d5",
   "metadata": {},
   "outputs": [
    {
     "data": {
      "text/plain": [
       "74.73745624270713"
      ]
     },
     "execution_count": 117,
     "metadata": {},
     "output_type": "execute_result"
    }
   ],
   "source": [
    "# Percentual de acertos para aqueles que tem classificação como \"Bom\":\n",
    "\n",
    "((1281)/(1281+433))*100"
   ]
  },
  {
   "cell_type": "code",
   "execution_count": 118,
   "id": "06fdf128",
   "metadata": {},
   "outputs": [
    {
     "data": {
      "text/plain": [
       "67.85714285714286"
      ]
     },
     "execution_count": 118,
     "metadata": {},
     "output_type": "execute_result"
    }
   ],
   "source": [
    "# Percentual de acertos para aqueles que tem classificação como \"Ruim\":\n",
    "\n",
    "((19)/(19+9))*100"
   ]
  },
  {
   "cell_type": "markdown",
   "id": "75dc2a5f",
   "metadata": {},
   "source": [
    "# 3. Vamos usar agora os métodos de undersampling e oversampling"
   ]
  },
  {
   "cell_type": "markdown",
   "id": "cb6d1f90",
   "metadata": {},
   "source": [
    "## 3.1. Undersampling"
   ]
  },
  {
   "cell_type": "code",
   "execution_count": 119,
   "id": "9214d706",
   "metadata": {},
   "outputs": [
    {
     "name": "stdout",
     "output_type": "stream",
     "text": [
      "Requirement already satisfied: imbalanced-learn in c:\\users\\francisco\\anaconda3\\lib\\site-packages (0.11.0)\n",
      "Requirement already satisfied: joblib>=1.1.1 in c:\\users\\francisco\\anaconda3\\lib\\site-packages (from imbalanced-learn) (1.3.2)\n",
      "Requirement already satisfied: scipy>=1.5.0 in c:\\users\\francisco\\anaconda3\\lib\\site-packages (from imbalanced-learn) (1.6.2)\n",
      "Requirement already satisfied: threadpoolctl>=2.0.0 in c:\\users\\francisco\\anaconda3\\lib\\site-packages (from imbalanced-learn) (2.1.0)\n",
      "Requirement already satisfied: scikit-learn>=1.0.2 in c:\\users\\francisco\\anaconda3\\lib\\site-packages (from imbalanced-learn) (1.3.2)\n",
      "Requirement already satisfied: numpy>=1.17.3 in c:\\users\\francisco\\anaconda3\\lib\\site-packages (from imbalanced-learn) (1.22.4)\n"
     ]
    }
   ],
   "source": [
    "!pip install -U imbalanced-learn"
   ]
  },
  {
   "cell_type": "code",
   "execution_count": 122,
   "id": "ac152a3f",
   "metadata": {},
   "outputs": [],
   "source": [
    "from imblearn.under_sampling import RandomUnderSampler"
   ]
  },
  {
   "cell_type": "code",
   "execution_count": 123,
   "id": "9d1d3414",
   "metadata": {},
   "outputs": [],
   "source": [
    "# define undersample strategy\n",
    "undersample = RandomUnderSampler(sampling_strategy='majority')"
   ]
  },
  {
   "cell_type": "code",
   "execution_count": 127,
   "id": "2a230bd5",
   "metadata": {},
   "outputs": [],
   "source": [
    "X_under, y_under = undersample.fit_resample(X, y)"
   ]
  },
  {
   "cell_type": "code",
   "execution_count": 138,
   "id": "c653426d",
   "metadata": {},
   "outputs": [],
   "source": [
    "X_train_u, X_test_u, y_train_u, y_test_u = train_test_split(X_under, y_under, test_size=0.3, stratify=y_under)"
   ]
  },
  {
   "cell_type": "code",
   "execution_count": 139,
   "id": "2ab499ec",
   "metadata": {},
   "outputs": [
    {
     "data": {
      "text/html": [
       "<style>#sk-container-id-5 {color: black;}#sk-container-id-5 pre{padding: 0;}#sk-container-id-5 div.sk-toggleable {background-color: white;}#sk-container-id-5 label.sk-toggleable__label {cursor: pointer;display: block;width: 100%;margin-bottom: 0;padding: 0.3em;box-sizing: border-box;text-align: center;}#sk-container-id-5 label.sk-toggleable__label-arrow:before {content: \"▸\";float: left;margin-right: 0.25em;color: #696969;}#sk-container-id-5 label.sk-toggleable__label-arrow:hover:before {color: black;}#sk-container-id-5 div.sk-estimator:hover label.sk-toggleable__label-arrow:before {color: black;}#sk-container-id-5 div.sk-toggleable__content {max-height: 0;max-width: 0;overflow: hidden;text-align: left;background-color: #f0f8ff;}#sk-container-id-5 div.sk-toggleable__content pre {margin: 0.2em;color: black;border-radius: 0.25em;background-color: #f0f8ff;}#sk-container-id-5 input.sk-toggleable__control:checked~div.sk-toggleable__content {max-height: 200px;max-width: 100%;overflow: auto;}#sk-container-id-5 input.sk-toggleable__control:checked~label.sk-toggleable__label-arrow:before {content: \"▾\";}#sk-container-id-5 div.sk-estimator input.sk-toggleable__control:checked~label.sk-toggleable__label {background-color: #d4ebff;}#sk-container-id-5 div.sk-label input.sk-toggleable__control:checked~label.sk-toggleable__label {background-color: #d4ebff;}#sk-container-id-5 input.sk-hidden--visually {border: 0;clip: rect(1px 1px 1px 1px);clip: rect(1px, 1px, 1px, 1px);height: 1px;margin: -1px;overflow: hidden;padding: 0;position: absolute;width: 1px;}#sk-container-id-5 div.sk-estimator {font-family: monospace;background-color: #f0f8ff;border: 1px dotted black;border-radius: 0.25em;box-sizing: border-box;margin-bottom: 0.5em;}#sk-container-id-5 div.sk-estimator:hover {background-color: #d4ebff;}#sk-container-id-5 div.sk-parallel-item::after {content: \"\";width: 100%;border-bottom: 1px solid gray;flex-grow: 1;}#sk-container-id-5 div.sk-label:hover label.sk-toggleable__label {background-color: #d4ebff;}#sk-container-id-5 div.sk-serial::before {content: \"\";position: absolute;border-left: 1px solid gray;box-sizing: border-box;top: 0;bottom: 0;left: 50%;z-index: 0;}#sk-container-id-5 div.sk-serial {display: flex;flex-direction: column;align-items: center;background-color: white;padding-right: 0.2em;padding-left: 0.2em;position: relative;}#sk-container-id-5 div.sk-item {position: relative;z-index: 1;}#sk-container-id-5 div.sk-parallel {display: flex;align-items: stretch;justify-content: center;background-color: white;position: relative;}#sk-container-id-5 div.sk-item::before, #sk-container-id-5 div.sk-parallel-item::before {content: \"\";position: absolute;border-left: 1px solid gray;box-sizing: border-box;top: 0;bottom: 0;left: 50%;z-index: -1;}#sk-container-id-5 div.sk-parallel-item {display: flex;flex-direction: column;z-index: 1;position: relative;background-color: white;}#sk-container-id-5 div.sk-parallel-item:first-child::after {align-self: flex-end;width: 50%;}#sk-container-id-5 div.sk-parallel-item:last-child::after {align-self: flex-start;width: 50%;}#sk-container-id-5 div.sk-parallel-item:only-child::after {width: 0;}#sk-container-id-5 div.sk-dashed-wrapped {border: 1px dashed gray;margin: 0 0.4em 0.5em 0.4em;box-sizing: border-box;padding-bottom: 0.4em;background-color: white;}#sk-container-id-5 div.sk-label label {font-family: monospace;font-weight: bold;display: inline-block;line-height: 1.2em;}#sk-container-id-5 div.sk-label-container {text-align: center;}#sk-container-id-5 div.sk-container {/* jupyter's `normalize.less` sets `[hidden] { display: none; }` but bootstrap.min.css set `[hidden] { display: none !important; }` so we also need the `!important` here to be able to override the default hidden behavior on the sphinx rendered scikit-learn.org. See: https://github.com/scikit-learn/scikit-learn/issues/21755 */display: inline-block !important;position: relative;}#sk-container-id-5 div.sk-text-repr-fallback {display: none;}</style><div id=\"sk-container-id-5\" class=\"sk-top-container\"><div class=\"sk-text-repr-fallback\"><pre>RandomForestClassifier()</pre><b>In a Jupyter environment, please rerun this cell to show the HTML representation or trust the notebook. <br />On GitHub, the HTML representation is unable to render, please try loading this page with nbviewer.org.</b></div><div class=\"sk-container\" hidden><div class=\"sk-item\"><div class=\"sk-estimator sk-toggleable\"><input class=\"sk-toggleable__control sk-hidden--visually\" id=\"sk-estimator-id-5\" type=\"checkbox\" checked><label for=\"sk-estimator-id-5\" class=\"sk-toggleable__label sk-toggleable__label-arrow\">RandomForestClassifier</label><div class=\"sk-toggleable__content\"><pre>RandomForestClassifier()</pre></div></div></div></div></div>"
      ],
      "text/plain": [
       "RandomForestClassifier()"
      ]
     },
     "execution_count": 139,
     "metadata": {},
     "output_type": "execute_result"
    }
   ],
   "source": [
    "clf.fit(X_train_u, y_train_u)"
   ]
  },
  {
   "cell_type": "code",
   "execution_count": 140,
   "id": "71d7d9ae",
   "metadata": {},
   "outputs": [],
   "source": [
    "results_u = clf.predict(X_test_u)"
   ]
  },
  {
   "cell_type": "code",
   "execution_count": 141,
   "id": "242a2e6d",
   "metadata": {},
   "outputs": [
    {
     "data": {
      "text/plain": [
       "0.5425414364640884"
      ]
     },
     "execution_count": 141,
     "metadata": {},
     "output_type": "execute_result"
    }
   ],
   "source": [
    "accuracy_score(results_u, y_test_u)"
   ]
  },
  {
   "cell_type": "markdown",
   "id": "e3f0b6e0",
   "metadata": {},
   "source": [
    "## 3.2. Oversamplig"
   ]
  },
  {
   "cell_type": "code",
   "execution_count": 135,
   "id": "7843d544",
   "metadata": {},
   "outputs": [],
   "source": [
    "from imblearn.over_sampling import RandomOverSampler"
   ]
  },
  {
   "cell_type": "code",
   "execution_count": 136,
   "id": "a7680792",
   "metadata": {},
   "outputs": [],
   "source": [
    "ros = RandomOverSampler(random_state=0)\n",
    "\n",
    "X_over, y_over = ros.fit_resample(X, y)"
   ]
  },
  {
   "cell_type": "code",
   "execution_count": 142,
   "id": "16c4d71b",
   "metadata": {},
   "outputs": [],
   "source": [
    "X_train_o, X_test_o, y_train_o, y_test_o = train_test_split(X_over, y_over, test_size=0.3, stratify=y_over)"
   ]
  },
  {
   "cell_type": "code",
   "execution_count": 143,
   "id": "e9c220f8",
   "metadata": {},
   "outputs": [
    {
     "data": {
      "text/html": [
       "<style>#sk-container-id-6 {color: black;}#sk-container-id-6 pre{padding: 0;}#sk-container-id-6 div.sk-toggleable {background-color: white;}#sk-container-id-6 label.sk-toggleable__label {cursor: pointer;display: block;width: 100%;margin-bottom: 0;padding: 0.3em;box-sizing: border-box;text-align: center;}#sk-container-id-6 label.sk-toggleable__label-arrow:before {content: \"▸\";float: left;margin-right: 0.25em;color: #696969;}#sk-container-id-6 label.sk-toggleable__label-arrow:hover:before {color: black;}#sk-container-id-6 div.sk-estimator:hover label.sk-toggleable__label-arrow:before {color: black;}#sk-container-id-6 div.sk-toggleable__content {max-height: 0;max-width: 0;overflow: hidden;text-align: left;background-color: #f0f8ff;}#sk-container-id-6 div.sk-toggleable__content pre {margin: 0.2em;color: black;border-radius: 0.25em;background-color: #f0f8ff;}#sk-container-id-6 input.sk-toggleable__control:checked~div.sk-toggleable__content {max-height: 200px;max-width: 100%;overflow: auto;}#sk-container-id-6 input.sk-toggleable__control:checked~label.sk-toggleable__label-arrow:before {content: \"▾\";}#sk-container-id-6 div.sk-estimator input.sk-toggleable__control:checked~label.sk-toggleable__label {background-color: #d4ebff;}#sk-container-id-6 div.sk-label input.sk-toggleable__control:checked~label.sk-toggleable__label {background-color: #d4ebff;}#sk-container-id-6 input.sk-hidden--visually {border: 0;clip: rect(1px 1px 1px 1px);clip: rect(1px, 1px, 1px, 1px);height: 1px;margin: -1px;overflow: hidden;padding: 0;position: absolute;width: 1px;}#sk-container-id-6 div.sk-estimator {font-family: monospace;background-color: #f0f8ff;border: 1px dotted black;border-radius: 0.25em;box-sizing: border-box;margin-bottom: 0.5em;}#sk-container-id-6 div.sk-estimator:hover {background-color: #d4ebff;}#sk-container-id-6 div.sk-parallel-item::after {content: \"\";width: 100%;border-bottom: 1px solid gray;flex-grow: 1;}#sk-container-id-6 div.sk-label:hover label.sk-toggleable__label {background-color: #d4ebff;}#sk-container-id-6 div.sk-serial::before {content: \"\";position: absolute;border-left: 1px solid gray;box-sizing: border-box;top: 0;bottom: 0;left: 50%;z-index: 0;}#sk-container-id-6 div.sk-serial {display: flex;flex-direction: column;align-items: center;background-color: white;padding-right: 0.2em;padding-left: 0.2em;position: relative;}#sk-container-id-6 div.sk-item {position: relative;z-index: 1;}#sk-container-id-6 div.sk-parallel {display: flex;align-items: stretch;justify-content: center;background-color: white;position: relative;}#sk-container-id-6 div.sk-item::before, #sk-container-id-6 div.sk-parallel-item::before {content: \"\";position: absolute;border-left: 1px solid gray;box-sizing: border-box;top: 0;bottom: 0;left: 50%;z-index: -1;}#sk-container-id-6 div.sk-parallel-item {display: flex;flex-direction: column;z-index: 1;position: relative;background-color: white;}#sk-container-id-6 div.sk-parallel-item:first-child::after {align-self: flex-end;width: 50%;}#sk-container-id-6 div.sk-parallel-item:last-child::after {align-self: flex-start;width: 50%;}#sk-container-id-6 div.sk-parallel-item:only-child::after {width: 0;}#sk-container-id-6 div.sk-dashed-wrapped {border: 1px dashed gray;margin: 0 0.4em 0.5em 0.4em;box-sizing: border-box;padding-bottom: 0.4em;background-color: white;}#sk-container-id-6 div.sk-label label {font-family: monospace;font-weight: bold;display: inline-block;line-height: 1.2em;}#sk-container-id-6 div.sk-label-container {text-align: center;}#sk-container-id-6 div.sk-container {/* jupyter's `normalize.less` sets `[hidden] { display: none; }` but bootstrap.min.css set `[hidden] { display: none !important; }` so we also need the `!important` here to be able to override the default hidden behavior on the sphinx rendered scikit-learn.org. See: https://github.com/scikit-learn/scikit-learn/issues/21755 */display: inline-block !important;position: relative;}#sk-container-id-6 div.sk-text-repr-fallback {display: none;}</style><div id=\"sk-container-id-6\" class=\"sk-top-container\"><div class=\"sk-text-repr-fallback\"><pre>RandomForestClassifier()</pre><b>In a Jupyter environment, please rerun this cell to show the HTML representation or trust the notebook. <br />On GitHub, the HTML representation is unable to render, please try loading this page with nbviewer.org.</b></div><div class=\"sk-container\" hidden><div class=\"sk-item\"><div class=\"sk-estimator sk-toggleable\"><input class=\"sk-toggleable__control sk-hidden--visually\" id=\"sk-estimator-id-6\" type=\"checkbox\" checked><label for=\"sk-estimator-id-6\" class=\"sk-toggleable__label sk-toggleable__label-arrow\">RandomForestClassifier</label><div class=\"sk-toggleable__content\"><pre>RandomForestClassifier()</pre></div></div></div></div></div>"
      ],
      "text/plain": [
       "RandomForestClassifier()"
      ]
     },
     "execution_count": 143,
     "metadata": {},
     "output_type": "execute_result"
    }
   ],
   "source": [
    "clf.fit(X_train_o, y_train_o)"
   ]
  },
  {
   "cell_type": "code",
   "execution_count": 145,
   "id": "33472682",
   "metadata": {},
   "outputs": [
    {
     "data": {
      "text/plain": [
       "0.9124031007751938"
      ]
     },
     "execution_count": 145,
     "metadata": {},
     "output_type": "execute_result"
    }
   ],
   "source": [
    "results_over = clf.predict(X_test_o)\n",
    "accuracy_score(results_over, y_test_o)"
   ]
  },
  {
   "cell_type": "markdown",
   "id": "1da406a4",
   "metadata": {},
   "source": [
    "Nota-se que dos dois métodos somente o de oversampling garantiu um melhor desempenho do modelo de aprendizado de máquina."
   ]
  },
  {
   "cell_type": "code",
   "execution_count": null,
   "id": "e55f431d",
   "metadata": {},
   "outputs": [],
   "source": []
  }
 ],
 "metadata": {
  "kernelspec": {
   "display_name": "Python 3",
   "language": "python",
   "name": "python3"
  },
  "language_info": {
   "codemirror_mode": {
    "name": "ipython",
    "version": 3
   },
   "file_extension": ".py",
   "mimetype": "text/x-python",
   "name": "python",
   "nbconvert_exporter": "python",
   "pygments_lexer": "ipython3",
   "version": "3.8.8"
  }
 },
 "nbformat": 4,
 "nbformat_minor": 5
}
